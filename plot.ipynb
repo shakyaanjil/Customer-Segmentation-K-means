{
 "cells": [
  {
   "cell_type": "markdown",
   "metadata": {},
   "source": [
    "#### Generally, we can find 4 types of categories where we are doing visualization:\n",
    "\n",
    "- Relationships\n",
    "- Comparisons\n",
    "- Distributions\n",
    "- Compositions"
   ]
  },
  {
   "cell_type": "markdown",
   "metadata": {},
   "source": [
    "#### Relationships\n",
    "\n",
    "In order to display the relationships, we use:\n",
    "- ScatterPlot\n",
    "- Bubble chart"
   ]
  },
  {
   "cell_type": "markdown",
   "metadata": {},
   "source": [
    "#### Compparisions"
   ]
  },
  {
   "cell_type": "markdown",
   "metadata": {},
   "source": []
  }
 ],
 "metadata": {
  "language_info": {
   "name": "python"
  }
 },
 "nbformat": 4,
 "nbformat_minor": 2
}
